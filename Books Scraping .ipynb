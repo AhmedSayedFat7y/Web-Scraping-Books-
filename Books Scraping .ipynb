{
 "cells": [
  {
   "cell_type": "markdown",
   "metadata": {
    "collapsed": true
   },
   "source": [
    "## Books Scraping "
   ]
  },
  {
   "cell_type": "code",
   "execution_count": 2,
   "metadata": {
    "collapsed": true
   },
   "outputs": [],
   "source": [
    "import pandas  as pd  \n",
    "import requests \n",
    "from bs4 import BeautifulSoup "
   ]
  },
  {
   "cell_type": "code",
   "execution_count": 43,
   "metadata": {},
   "outputs": [
    {
     "data": {
      "text/plain": [
       "<Response [200]>"
      ]
     },
     "execution_count": 43,
     "metadata": {},
     "output_type": "execute_result"
    }
   ],
   "source": [
    "url = 'https://books.toscrape.com/'\n",
    "res = requests.request('GET',url)\n",
    "res"
   ]
  },
  {
   "cell_type": "code",
   "execution_count": 6,
   "metadata": {},
   "outputs": [
    {
     "data": {
      "text/plain": [
       "<article class=\"product_pod\">\n",
       "<div class=\"image_container\">\n",
       "<a href=\"catalogue/a-light-in-the-attic_1000/index.html\"><img alt=\"A Light in the Attic\" class=\"thumbnail\" src=\"media/cache/2c/da/2cdad67c44b002e7ead0cc35693c0e8b.jpg\"/></a>\n",
       "</div>\n",
       "<p class=\"star-rating Three\">\n",
       "<i class=\"icon-star\"></i>\n",
       "<i class=\"icon-star\"></i>\n",
       "<i class=\"icon-star\"></i>\n",
       "<i class=\"icon-star\"></i>\n",
       "<i class=\"icon-star\"></i>\n",
       "</p>\n",
       "<h3><a href=\"catalogue/a-light-in-the-attic_1000/index.html\" title=\"A Light in the Attic\">A Light in the ...</a></h3>\n",
       "<div class=\"product_price\">\n",
       "<p class=\"price_color\">£51.77</p>\n",
       "<p class=\"instock availability\">\n",
       "<i class=\"icon-ok\"></i>\n",
       "    \n",
       "        In stock\n",
       "    \n",
       "</p>\n",
       "<form>\n",
       "<button class=\"btn btn-primary btn-block\" data-loading-text=\"Adding...\" type=\"submit\">Add to basket</button>\n",
       "</form>\n",
       "</div>\n",
       "</article>"
      ]
     },
     "execution_count": 6,
     "metadata": {},
     "output_type": "execute_result"
    }
   ],
   "source": [
    "soup = BeautifulSoup(res.content , 'html.parser')\n",
    "articles = soup.find_all('article' ,{'class':'product_pod'})\n",
    "articles[0]"
   ]
  },
  {
   "cell_type": "code",
   "execution_count": 8,
   "metadata": {},
   "outputs": [
    {
     "data": {
      "text/plain": [
       "'A Light in the Attic'"
      ]
     },
     "execution_count": 8,
     "metadata": {},
     "output_type": "execute_result"
    }
   ],
   "source": [
    "title = articles[0].find('h3').find('a')['title']\n",
    "title"
   ]
  },
  {
   "cell_type": "code",
   "execution_count": 9,
   "metadata": {},
   "outputs": [
    {
     "data": {
      "text/plain": [
       "'£51.77'"
      ]
     },
     "execution_count": 9,
     "metadata": {},
     "output_type": "execute_result"
    }
   ],
   "source": [
    "price = articles[0].find('p',{'class':'price_color'}).get_text()\n",
    "price"
   ]
  },
  {
   "cell_type": "code",
   "execution_count": 11,
   "metadata": {},
   "outputs": [
    {
     "data": {
      "text/plain": [
       "'Three'"
      ]
     },
     "execution_count": 11,
     "metadata": {},
     "output_type": "execute_result"
    }
   ],
   "source": [
    "rate = articles[0].find('p',{'class':'star-rating'})['class'][1]\n",
    "rate"
   ]
  },
  {
   "cell_type": "code",
   "execution_count": 12,
   "metadata": {
    "collapsed": true
   },
   "outputs": [],
   "source": [
    "data =[]\n",
    "for article in articles :\n",
    "    title = article.find('h3').find('a')['title']\n",
    "    price = article.find('p',{'class':'price_color'}).get_text()\n",
    "    rate = article.find('p',{'class':'star-rating'})['class'][1]\n",
    "    data.append({\n",
    "        'title':title ,\n",
    "        'price':price,\n",
    "        'rate':rate\n",
    "    })"
   ]
  },
  {
   "cell_type": "code",
   "execution_count": 13,
   "metadata": {},
   "outputs": [
    {
     "data": {
      "text/plain": [
       "20"
      ]
     },
     "execution_count": 13,
     "metadata": {},
     "output_type": "execute_result"
    }
   ],
   "source": [
    "len(data)"
   ]
  },
  {
   "cell_type": "code",
   "execution_count": 14,
   "metadata": {},
   "outputs": [
    {
     "data": {
      "text/html": [
       "<div>\n",
       "<style scoped>\n",
       "    .dataframe tbody tr th:only-of-type {\n",
       "        vertical-align: middle;\n",
       "    }\n",
       "\n",
       "    .dataframe tbody tr th {\n",
       "        vertical-align: top;\n",
       "    }\n",
       "\n",
       "    .dataframe thead th {\n",
       "        text-align: right;\n",
       "    }\n",
       "</style>\n",
       "<table border=\"1\" class=\"dataframe\">\n",
       "  <thead>\n",
       "    <tr style=\"text-align: right;\">\n",
       "      <th></th>\n",
       "      <th>title</th>\n",
       "      <th>price</th>\n",
       "      <th>rate</th>\n",
       "    </tr>\n",
       "  </thead>\n",
       "  <tbody>\n",
       "    <tr>\n",
       "      <th>0</th>\n",
       "      <td>A Light in the Attic</td>\n",
       "      <td>£51.77</td>\n",
       "      <td>Three</td>\n",
       "    </tr>\n",
       "    <tr>\n",
       "      <th>1</th>\n",
       "      <td>Tipping the Velvet</td>\n",
       "      <td>£53.74</td>\n",
       "      <td>One</td>\n",
       "    </tr>\n",
       "    <tr>\n",
       "      <th>2</th>\n",
       "      <td>Soumission</td>\n",
       "      <td>£50.10</td>\n",
       "      <td>One</td>\n",
       "    </tr>\n",
       "    <tr>\n",
       "      <th>3</th>\n",
       "      <td>Sharp Objects</td>\n",
       "      <td>£47.82</td>\n",
       "      <td>Four</td>\n",
       "    </tr>\n",
       "    <tr>\n",
       "      <th>4</th>\n",
       "      <td>Sapiens: A Brief History of Humankind</td>\n",
       "      <td>£54.23</td>\n",
       "      <td>Five</td>\n",
       "    </tr>\n",
       "    <tr>\n",
       "      <th>5</th>\n",
       "      <td>The Requiem Red</td>\n",
       "      <td>£22.65</td>\n",
       "      <td>One</td>\n",
       "    </tr>\n",
       "    <tr>\n",
       "      <th>6</th>\n",
       "      <td>The Dirty Little Secrets of Getting Your Dream...</td>\n",
       "      <td>£33.34</td>\n",
       "      <td>Four</td>\n",
       "    </tr>\n",
       "    <tr>\n",
       "      <th>7</th>\n",
       "      <td>The Coming Woman: A Novel Based on the Life of...</td>\n",
       "      <td>£17.93</td>\n",
       "      <td>Three</td>\n",
       "    </tr>\n",
       "    <tr>\n",
       "      <th>8</th>\n",
       "      <td>The Boys in the Boat: Nine Americans and Their...</td>\n",
       "      <td>£22.60</td>\n",
       "      <td>Four</td>\n",
       "    </tr>\n",
       "    <tr>\n",
       "      <th>9</th>\n",
       "      <td>The Black Maria</td>\n",
       "      <td>£52.15</td>\n",
       "      <td>One</td>\n",
       "    </tr>\n",
       "    <tr>\n",
       "      <th>10</th>\n",
       "      <td>Starving Hearts (Triangular Trade Trilogy, #1)</td>\n",
       "      <td>£13.99</td>\n",
       "      <td>Two</td>\n",
       "    </tr>\n",
       "    <tr>\n",
       "      <th>11</th>\n",
       "      <td>Shakespeare's Sonnets</td>\n",
       "      <td>£20.66</td>\n",
       "      <td>Four</td>\n",
       "    </tr>\n",
       "    <tr>\n",
       "      <th>12</th>\n",
       "      <td>Set Me Free</td>\n",
       "      <td>£17.46</td>\n",
       "      <td>Five</td>\n",
       "    </tr>\n",
       "    <tr>\n",
       "      <th>13</th>\n",
       "      <td>Scott Pilgrim's Precious Little Life (Scott Pi...</td>\n",
       "      <td>£52.29</td>\n",
       "      <td>Five</td>\n",
       "    </tr>\n",
       "    <tr>\n",
       "      <th>14</th>\n",
       "      <td>Rip it Up and Start Again</td>\n",
       "      <td>£35.02</td>\n",
       "      <td>Five</td>\n",
       "    </tr>\n",
       "    <tr>\n",
       "      <th>15</th>\n",
       "      <td>Our Band Could Be Your Life: Scenes from the A...</td>\n",
       "      <td>£57.25</td>\n",
       "      <td>Three</td>\n",
       "    </tr>\n",
       "    <tr>\n",
       "      <th>16</th>\n",
       "      <td>Olio</td>\n",
       "      <td>£23.88</td>\n",
       "      <td>One</td>\n",
       "    </tr>\n",
       "    <tr>\n",
       "      <th>17</th>\n",
       "      <td>Mesaerion: The Best Science Fiction Stories 18...</td>\n",
       "      <td>£37.59</td>\n",
       "      <td>One</td>\n",
       "    </tr>\n",
       "    <tr>\n",
       "      <th>18</th>\n",
       "      <td>Libertarianism for Beginners</td>\n",
       "      <td>£51.33</td>\n",
       "      <td>Two</td>\n",
       "    </tr>\n",
       "    <tr>\n",
       "      <th>19</th>\n",
       "      <td>It's Only the Himalayas</td>\n",
       "      <td>£45.17</td>\n",
       "      <td>Two</td>\n",
       "    </tr>\n",
       "  </tbody>\n",
       "</table>\n",
       "</div>"
      ],
      "text/plain": [
       "                                                title   price   rate\n",
       "0                                A Light in the Attic  £51.77  Three\n",
       "1                                  Tipping the Velvet  £53.74    One\n",
       "2                                          Soumission  £50.10    One\n",
       "3                                       Sharp Objects  £47.82   Four\n",
       "4               Sapiens: A Brief History of Humankind  £54.23   Five\n",
       "5                                     The Requiem Red  £22.65    One\n",
       "6   The Dirty Little Secrets of Getting Your Dream...  £33.34   Four\n",
       "7   The Coming Woman: A Novel Based on the Life of...  £17.93  Three\n",
       "8   The Boys in the Boat: Nine Americans and Their...  £22.60   Four\n",
       "9                                     The Black Maria  £52.15    One\n",
       "10     Starving Hearts (Triangular Trade Trilogy, #1)  £13.99    Two\n",
       "11                              Shakespeare's Sonnets  £20.66   Four\n",
       "12                                        Set Me Free  £17.46   Five\n",
       "13  Scott Pilgrim's Precious Little Life (Scott Pi...  £52.29   Five\n",
       "14                          Rip it Up and Start Again  £35.02   Five\n",
       "15  Our Band Could Be Your Life: Scenes from the A...  £57.25  Three\n",
       "16                                               Olio  £23.88    One\n",
       "17  Mesaerion: The Best Science Fiction Stories 18...  £37.59    One\n",
       "18                       Libertarianism for Beginners  £51.33    Two\n",
       "19                            It's Only the Himalayas  £45.17    Two"
      ]
     },
     "execution_count": 14,
     "metadata": {},
     "output_type": "execute_result"
    }
   ],
   "source": [
    "books = pd.DataFrame(data)\n",
    "books"
   ]
  },
  {
   "cell_type": "code",
   "execution_count": 44,
   "metadata": {},
   "outputs": [
    {
     "data": {
      "text/plain": [
       "<Response [200]>"
      ]
     },
     "execution_count": 44,
     "metadata": {},
     "output_type": "execute_result"
    }
   ],
   "source": [
    "soup = BeautifulSoup(res.content , 'html.parser')\n",
    "categories = soup.find('ul',{'class':'nav nav-list'}).find('ul').find_all('a')\n",
    "base_url = 'https://books.toscrape.com/'\n",
    "cat_url = base_url+categories[1]['href']\n",
    "res = requests.request('GET',cat_url)\n",
    "res"
   ]
  },
  {
   "cell_type": "code",
   "execution_count": 46,
   "metadata": {},
   "outputs": [
    {
     "data": {
      "text/plain": [
       "'https://books.toscrape.com/catalogue/category/books/mystery_3/index.html'"
      ]
     },
     "execution_count": 46,
     "metadata": {},
     "output_type": "execute_result"
    }
   ],
   "source": [
    "cat_url"
   ]
  },
  {
   "cell_type": "code",
   "execution_count": 38,
   "metadata": {},
   "outputs": [
    {
     "data": {
      "text/plain": [
       "'Travel'"
      ]
     },
     "execution_count": 38,
     "metadata": {},
     "output_type": "execute_result"
    }
   ],
   "source": [
    "categories[0].text.strip()"
   ]
  },
  {
   "cell_type": "code",
   "execution_count": 39,
   "metadata": {
    "collapsed": true
   },
   "outputs": [],
   "source": [
    "data =[]\n",
    "for category in categories :\n",
    "    name = category.text.strip()\n",
    "    base_url = 'https://books.toscrape.com/'\n",
    "    cat_url = base_url+category['href']\n",
    "    res = requests.request('GET',cat_url)\n",
    "    soup = BeautifulSoup(res.content , 'html.parser')\n",
    "    articles = soup.find_all('article' ,{'class':'product_pod'})\n",
    "    for article in articles :\n",
    "        title = article.find('h3').find('a')['title']\n",
    "        price = article.find('p',{'class':'price_color'}).get_text()\n",
    "        rate = article.find('p',{'class':'star-rating'})['class'][1]\n",
    "        data.append({\n",
    "                'category' :name ,\n",
    "                'title':title ,\n",
    "                'price':price,\n",
    "                'rate':rate\n",
    "            })"
   ]
  },
  {
   "cell_type": "code",
   "execution_count": 40,
   "metadata": {},
   "outputs": [
    {
     "data": {
      "text/plain": [
       "517"
      ]
     },
     "execution_count": 40,
     "metadata": {},
     "output_type": "execute_result"
    }
   ],
   "source": [
    "len(data)"
   ]
  },
  {
   "cell_type": "code",
   "execution_count": 41,
   "metadata": {},
   "outputs": [
    {
     "data": {
      "text/html": [
       "<div>\n",
       "<style scoped>\n",
       "    .dataframe tbody tr th:only-of-type {\n",
       "        vertical-align: middle;\n",
       "    }\n",
       "\n",
       "    .dataframe tbody tr th {\n",
       "        vertical-align: top;\n",
       "    }\n",
       "\n",
       "    .dataframe thead th {\n",
       "        text-align: right;\n",
       "    }\n",
       "</style>\n",
       "<table border=\"1\" class=\"dataframe\">\n",
       "  <thead>\n",
       "    <tr style=\"text-align: right;\">\n",
       "      <th></th>\n",
       "      <th>category</th>\n",
       "      <th>title</th>\n",
       "      <th>price</th>\n",
       "      <th>rate</th>\n",
       "    </tr>\n",
       "  </thead>\n",
       "  <tbody>\n",
       "    <tr>\n",
       "      <th>0</th>\n",
       "      <td>Travel</td>\n",
       "      <td>It's Only the Himalayas</td>\n",
       "      <td>£45.17</td>\n",
       "      <td>Two</td>\n",
       "    </tr>\n",
       "    <tr>\n",
       "      <th>1</th>\n",
       "      <td>Travel</td>\n",
       "      <td>Full Moon over Noah’s Ark: An Odyssey to Mount...</td>\n",
       "      <td>£49.43</td>\n",
       "      <td>Four</td>\n",
       "    </tr>\n",
       "    <tr>\n",
       "      <th>2</th>\n",
       "      <td>Travel</td>\n",
       "      <td>See America: A Celebration of Our National Par...</td>\n",
       "      <td>£48.87</td>\n",
       "      <td>Three</td>\n",
       "    </tr>\n",
       "    <tr>\n",
       "      <th>3</th>\n",
       "      <td>Travel</td>\n",
       "      <td>Vagabonding: An Uncommon Guide to the Art of L...</td>\n",
       "      <td>£36.94</td>\n",
       "      <td>Two</td>\n",
       "    </tr>\n",
       "    <tr>\n",
       "      <th>4</th>\n",
       "      <td>Travel</td>\n",
       "      <td>Under the Tuscan Sun</td>\n",
       "      <td>£37.33</td>\n",
       "      <td>Three</td>\n",
       "    </tr>\n",
       "    <tr>\n",
       "      <th>...</th>\n",
       "      <td>...</td>\n",
       "      <td>...</td>\n",
       "      <td>...</td>\n",
       "      <td>...</td>\n",
       "    </tr>\n",
       "    <tr>\n",
       "      <th>512</th>\n",
       "      <td>Politics</td>\n",
       "      <td>Why the Right Went Wrong: Conservatism--From G...</td>\n",
       "      <td>£52.65</td>\n",
       "      <td>Four</td>\n",
       "    </tr>\n",
       "    <tr>\n",
       "      <th>513</th>\n",
       "      <td>Politics</td>\n",
       "      <td>Equal Is Unfair: America's Misguided Fight Aga...</td>\n",
       "      <td>£56.86</td>\n",
       "      <td>One</td>\n",
       "    </tr>\n",
       "    <tr>\n",
       "      <th>514</th>\n",
       "      <td>Cultural</td>\n",
       "      <td>Amid the Chaos</td>\n",
       "      <td>£36.58</td>\n",
       "      <td>One</td>\n",
       "    </tr>\n",
       "    <tr>\n",
       "      <th>515</th>\n",
       "      <td>Erotica</td>\n",
       "      <td>Dark Notes</td>\n",
       "      <td>£19.19</td>\n",
       "      <td>Five</td>\n",
       "    </tr>\n",
       "    <tr>\n",
       "      <th>516</th>\n",
       "      <td>Crime</td>\n",
       "      <td>The Long Shadow of Small Ghosts: Murder and Me...</td>\n",
       "      <td>£10.97</td>\n",
       "      <td>One</td>\n",
       "    </tr>\n",
       "  </tbody>\n",
       "</table>\n",
       "<p>517 rows × 4 columns</p>\n",
       "</div>"
      ],
      "text/plain": [
       "     category                                              title   price  \\\n",
       "0      Travel                            It's Only the Himalayas  £45.17   \n",
       "1      Travel  Full Moon over Noah’s Ark: An Odyssey to Mount...  £49.43   \n",
       "2      Travel  See America: A Celebration of Our National Par...  £48.87   \n",
       "3      Travel  Vagabonding: An Uncommon Guide to the Art of L...  £36.94   \n",
       "4      Travel                               Under the Tuscan Sun  £37.33   \n",
       "..        ...                                                ...     ...   \n",
       "512  Politics  Why the Right Went Wrong: Conservatism--From G...  £52.65   \n",
       "513  Politics  Equal Is Unfair: America's Misguided Fight Aga...  £56.86   \n",
       "514  Cultural                                     Amid the Chaos  £36.58   \n",
       "515   Erotica                                         Dark Notes  £19.19   \n",
       "516     Crime  The Long Shadow of Small Ghosts: Murder and Me...  £10.97   \n",
       "\n",
       "      rate  \n",
       "0      Two  \n",
       "1     Four  \n",
       "2    Three  \n",
       "3      Two  \n",
       "4    Three  \n",
       "..     ...  \n",
       "512   Four  \n",
       "513    One  \n",
       "514    One  \n",
       "515   Five  \n",
       "516    One  \n",
       "\n",
       "[517 rows x 4 columns]"
      ]
     },
     "execution_count": 41,
     "metadata": {},
     "output_type": "execute_result"
    }
   ],
   "source": [
    "books = pd.DataFrame(data)\n",
    "books"
   ]
  },
  {
   "cell_type": "code",
   "execution_count": 51,
   "metadata": {},
   "outputs": [
    {
     "data": {
      "text/plain": [
       "['https://www.pararius.com/apartments/amsterdam/',\n",
       " 'https://www.pararius.com/apartments/amsterdam/page-2',\n",
       " 'https://www.pararius.com/apartments/amsterdam/page-3',\n",
       " 'https://www.pararius.com/apartments/amsterdam/page-4',\n",
       " 'https://www.pararius.com/apartments/amsterdam/page-5',\n",
       " 'https://www.pararius.com/apartments/amsterdam/page-6',\n",
       " 'https://www.pararius.com/apartments/amsterdam/page-7',\n",
       " 'https://www.pararius.com/apartments/amsterdam/page-8',\n",
       " 'https://www.pararius.com/apartments/amsterdam/page-9',\n",
       " 'https://www.pararius.com/apartments/amsterdam/page-10',\n",
       " 'https://www.pararius.com/apartments/amsterdam/page-11',\n",
       " 'https://www.pararius.com/apartments/amsterdam/page-12',\n",
       " 'https://www.pararius.com/apartments/amsterdam/page-13',\n",
       " 'https://www.pararius.com/apartments/amsterdam/page-14',\n",
       " 'https://www.pararius.com/apartments/amsterdam/page-15',\n",
       " 'https://www.pararius.com/apartments/amsterdam/page-16',\n",
       " 'https://www.pararius.com/apartments/amsterdam/page-17',\n",
       " 'https://www.pararius.com/apartments/amsterdam/page-18',\n",
       " 'https://www.pararius.com/apartments/amsterdam/page-19',\n",
       " 'https://www.pararius.com/apartments/amsterdam/page-20',\n",
       " 'https://www.pararius.com/apartments/amsterdam/page-21',\n",
       " 'https://www.pararius.com/apartments/amsterdam/page-22',\n",
       " 'https://www.pararius.com/apartments/amsterdam/page-23',\n",
       " 'https://www.pararius.com/apartments/amsterdam/page-24',\n",
       " 'https://www.pararius.com/apartments/amsterdam/page-25']"
      ]
     },
     "execution_count": 51,
     "metadata": {},
     "output_type": "execute_result"
    }
   ],
   "source": [
    "url = 'https://www.pararius.com/apartments/amsterdam/'\n",
    "urls = ['https://www.pararius.com/apartments/amsterdam/']\n",
    "for i in range(2,26):\n",
    "    urls.append(url+f'page-{i}')\n",
    "urls    "
   ]
  },
  {
   "cell_type": "code",
   "execution_count": null,
   "metadata": {
    "collapsed": true
   },
   "outputs": [],
   "source": []
  }
 ],
 "metadata": {
  "kernelspec": {
   "display_name": "Python 3",
   "language": "python",
   "name": "python3"
  },
  "language_info": {
   "codemirror_mode": {
    "name": "ipython",
    "version": 3
   },
   "file_extension": ".py",
   "mimetype": "text/x-python",
   "name": "python",
   "nbconvert_exporter": "python",
   "pygments_lexer": "ipython3",
   "version": "3.7.6"
  }
 },
 "nbformat": 4,
 "nbformat_minor": 5
}
